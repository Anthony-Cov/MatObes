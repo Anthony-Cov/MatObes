{
  "cells": [
    {
      "cell_type": "markdown",
      "source": [
        "## installing..."
      ],
      "metadata": {
        "id": "AdNHpG6f1Rti"
      }
    },
    {
      "cell_type": "code",
      "source": [
        "!pip install giotto-tda"
      ],
      "metadata": {
        "id": "suYzrPvAr82P",
        "colab": {
          "base_uri": "https://localhost:8080/"
        },
        "outputId": "94b1740e-ce45-4a77-9efe-6e517d758ddd"
      },
      "execution_count": 2,
      "outputs": [
        {
          "output_type": "stream",
          "name": "stdout",
          "text": [
            "Installing collected packages: texttable, jedi, igraph, pyflagser, giotto-ph, giotto-tda\n",
            "Successfully installed giotto-ph-0.2.2 giotto-tda-0.6.0 igraph-0.11.2 jedi-0.19.1 pyflagser-0.4.5 texttable-1.7.0\n"
          ]
        }
      ]
    },
    {
      "cell_type": "code",
      "source": [
        "!pip freeze"
      ],
      "metadata": {
        "id": "SYBUrloKsXtS"
      },
      "execution_count": null,
      "outputs": []
    },
    {
      "cell_type": "markdown",
      "source": [
        "## importing..."
      ],
      "metadata": {
        "id": "NFw_a0BD1ZJn"
      }
    },
    {
      "cell_type": "code",
      "source": [
        "from gtda.time_series import embedding, TakensEmbedding"
      ],
      "metadata": {
        "id": "YSmmVaKLsbmx"
      },
      "execution_count": 3,
      "outputs": []
    },
    {
      "cell_type": "code",
      "execution_count": 4,
      "metadata": {
        "id": "UUZYSV5frCOX"
      },
      "outputs": [],
      "source": [
        "import pandas as pd\n",
        "import numpy as np\n"
      ]
    },
    {
      "cell_type": "code",
      "source": [
        "import matplotlib.pyplot as plt\n",
        "%matplotlib inline"
      ],
      "metadata": {
        "id": "3QLLVfw72mn9"
      },
      "execution_count": 5,
      "outputs": []
    },
    {
      "cell_type": "code",
      "source": [
        "import plotly.express as px"
      ],
      "metadata": {
        "id": "eBOJ6G9x1OD8"
      },
      "execution_count": 6,
      "outputs": []
    },
    {
      "cell_type": "markdown",
      "source": [
        "## loading data...\n",
        "\n"
      ],
      "metadata": {
        "id": "A9408gdW129c"
      }
    },
    {
      "cell_type": "code",
      "execution_count": 8,
      "metadata": {
        "id": "bA7eO5uHrCOX"
      },
      "outputs": [],
      "source": [
        "from sklearn.datasets import fetch_california_housing"
      ]
    },
    {
      "cell_type": "code",
      "source": [
        "data=fetch_california_housing()\n",
        "data"
      ],
      "metadata": {
        "id": "3KA4SXG2Ot6y"
      },
      "execution_count": null,
      "outputs": []
    },
    {
      "cell_type": "markdown",
      "source": [
        "## Создаем датасеты"
      ],
      "metadata": {
        "id": "cRZbKvYtOvb5"
      }
    },
    {
      "cell_type": "code",
      "source": [
        "X = pd.DataFrame(data.data, columns=data.feature_names)\n",
        "y = pd.Series(data.target)\n",
        "X.head()\n",
        "display(y.head())"
      ],
      "metadata": {
        "colab": {
          "base_uri": "https://localhost:8080/",
          "height": 121
        },
        "id": "RageDeBDqgu4",
        "outputId": "628d4036-e716-4a38-e0f8-f4038a1468b3"
      },
      "execution_count": 12,
      "outputs": [
        {
          "output_type": "display_data",
          "data": {
            "text/plain": [
              "0    4.526\n",
              "1    3.585\n",
              "2    3.521\n",
              "3    3.413\n",
              "4    3.422\n",
              "dtype: float64"
            ]
          },
          "metadata": {}
        }
      ]
    },
    {
      "cell_type": "code",
      "source": [
        "from sklearn.model_selection import train_test_split"
      ],
      "metadata": {
        "id": "rfzEQwRkCDAv"
      },
      "execution_count": 18,
      "outputs": []
    },
    {
      "cell_type": "code",
      "source": [
        "X_train, X_test, y_train, y_test = train_test_split(X, y, test_size=0.33, random_state=42)"
      ],
      "metadata": {
        "id": "E2nnCXXWBnCy"
      },
      "execution_count": 19,
      "outputs": []
    },
    {
      "cell_type": "markdown",
      "source": [
        "## Создаем модель\n",
        "\n"
      ],
      "metadata": {
        "id": "MY3WNfpRrHVN"
      }
    },
    {
      "cell_type": "code",
      "source": [
        "from sklearn.linear_model import BayesianRidge\n",
        "from sklearn.metrics import mean_squared_error"
      ],
      "metadata": {
        "id": "SJqvREi8B5_2"
      },
      "execution_count": 22,
      "outputs": []
    },
    {
      "cell_type": "code",
      "source": [
        "reg = BayesianRidge()\n",
        "reg.fit(X_train, y_train)\n",
        "y_pred = reg.predict(X_test)\n",
        "score = mean_squared_error(y_test, y_pred)\n",
        "print(f\"MSE: {score}\")"
      ],
      "metadata": {
        "id": "QCd8U8XFq-5X",
        "colab": {
          "base_uri": "https://localhost:8080/"
        },
        "outputId": "6ec14f7c-231a-42cb-b3aa-057f089eba3a"
      },
      "execution_count": 23,
      "outputs": [
        {
          "output_type": "stream",
          "name": "stdout",
          "text": [
            "MSE: 0.536758576025251\n"
          ]
        }
      ]
    },
    {
      "cell_type": "code",
      "source": [
        "#feature coeffs\n",
        "dict(zip(X_train.columns,reg.coef_))"
      ],
      "metadata": {
        "colab": {
          "base_uri": "https://localhost:8080/"
        },
        "id": "ZoLmmr0aB_Xj",
        "outputId": "710ed098-4931-406c-f23a-9bb35cc39fbb"
      },
      "execution_count": 27,
      "outputs": [
        {
          "output_type": "execute_result",
          "data": {
            "text/plain": [
              "{'MedInc': 0.44420310989747724,\n",
              " 'HouseAge': 0.009557489190509734,\n",
              " 'AveRooms': -0.12072207104042143,\n",
              " 'AveBedrms': 0.7720501228368142,\n",
              " 'Population': -5.920004379782843e-08,\n",
              " 'AveOccup': -0.0032974865079526483,\n",
              " 'Latitude': -0.4190951027281282,\n",
              " 'Longitude': -0.4339771132901798}"
            ]
          },
          "metadata": {},
          "execution_count": 27
        }
      ]
    },
    {
      "cell_type": "markdown",
      "metadata": {
        "id": "G6j6lCxyrCOe"
      },
      "source": []
    }
  ],
  "metadata": {
    "kernelspec": {
      "display_name": "Python 3",
      "language": "python",
      "name": "python3"
    },
    "language_info": {
      "codemirror_mode": {
        "name": "ipython",
        "version": 3
      },
      "file_extension": ".py",
      "mimetype": "text/x-python",
      "name": "python",
      "nbconvert_exporter": "python",
      "pygments_lexer": "ipython3",
      "version": "3.11.4"
    },
    "orig_nbformat": 4,
    "colab": {
      "provenance": []
    }
  },
  "nbformat": 4,
  "nbformat_minor": 0
}