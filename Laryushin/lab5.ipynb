{
  "nbformat": 4,
  "nbformat_minor": 0,
  "metadata": {
    "colab": {
      "provenance": []
    },
    "kernelspec": {
      "name": "python3",
      "display_name": "Python 3"
    },
    "language_info": {
      "name": "python"
    }
  },
  "cells": [
    {
      "cell_type": "code",
      "source": [
        "import yfinance as yf\n",
        "import pandas as pd\n",
        "import numpy as np\n",
        "from tensorflow import keras\n",
        "from tensorflow.keras import layers\n",
        "\n",
        "# Шаг 1: Загрузка данных\n",
        "symbol = \"AAPL\"  # Символ акций Apple\n",
        "start_date = \"2020-01-01\"\n",
        "end_date = \"2022-01-01\"\n",
        "data = yf.download(symbol, start=start_date, end=end_date)\n",
        "\n",
        "# Шаг 2: Создание модели\n",
        "def create_model(input_dim):\n",
        "    model = keras.Sequential()\n",
        "    model.add(layers.Input(shape=(input_dim,)))\n",
        "    model.add(layers.Dense(64, activation='relu'))\n",
        "    model.add(layers.Dense(1))  # Выходной слой с одним нейроном\n",
        "    model.compile(optimizer='adam', loss='mean_squared_error')  # Задайте оптимизатор и функцию потерь\n",
        "    return model\n",
        "\n",
        "# Шаг 3 и 4: Обучение модели с разными loss-функциями и оптимизаторами\n",
        "input_dim = data.shape[1]-1\n",
        "X = data.drop(['Adj Close'], axis=1)\n",
        "y = data['Adj Close'].values\n",
        "\n",
        "loss_functions = ['mean_squared_error', 'mean_absolute_error', 'huber_loss']\n",
        "optimizers = ['adam', 'sgd', 'rmsprop']\n",
        "\n",
        "for loss_function in loss_functions:\n",
        "    for optimizer in optimizers:\n",
        "        model = create_model(input_dim)\n",
        "        model.compile(optimizer=optimizer, loss=loss_function)\n",
        "        model.fit(X, y, epochs=50, verbose=0)  # Обучите модель\n",
        "        loss = model.evaluate(X, y)  # Оцените модель\n",
        "        print(f\"Loss function: {loss_function}, Optimizer: {optimizer}, Loss: {loss}\")\n"
      ],
      "metadata": {
        "colab": {
          "base_uri": "https://localhost:8080/"
        },
        "id": "ozrqhI722no9",
        "outputId": "bf83fcc3-780a-4a5b-8086-d2f65dc7398f"
      },
      "execution_count": 18,
      "outputs": [
        {
          "output_type": "stream",
          "name": "stdout",
          "text": [
            "[*********************100%%**********************]  1 of 1 completed\n",
            "16/16 [==============================] - 0s 1ms/step - loss: 7591.4380\n",
            "Loss function: mean_squared_error, Optimizer: adam, Loss: 7591.43798828125\n",
            "16/16 [==============================] - 0s 1ms/step - loss: nan\n",
            "Loss function: mean_squared_error, Optimizer: sgd, Loss: nan\n",
            "16/16 [==============================] - 0s 1ms/step - loss: 3816594604032.0000\n",
            "Loss function: mean_squared_error, Optimizer: rmsprop, Loss: 3816594604032.0\n",
            "16/16 [==============================] - 0s 1ms/step - loss: 123473.5469\n",
            "Loss function: mean_absolute_error, Optimizer: adam, Loss: 123473.546875\n",
            "16/16 [==============================] - 0s 2ms/step - loss: 108.3368\n",
            "Loss function: mean_absolute_error, Optimizer: sgd, Loss: 108.33683776855469\n",
            "16/16 [==============================] - 0s 1ms/step - loss: 492520.3125\n",
            "Loss function: mean_absolute_error, Optimizer: rmsprop, Loss: 492520.3125\n",
            "16/16 [==============================] - 0s 1ms/step - loss: 99686.2578\n",
            "Loss function: huber_loss, Optimizer: adam, Loss: 99686.2578125\n",
            "16/16 [==============================] - 0s 1ms/step - loss: 107.8368\n",
            "Loss function: huber_loss, Optimizer: sgd, Loss: 107.83683776855469\n",
            "16/16 [==============================] - 0s 1ms/step - loss: 280045.7188\n",
            "Loss function: huber_loss, Optimizer: rmsprop, Loss: 280045.71875\n"
          ]
        }
      ]
    }
  ]
}