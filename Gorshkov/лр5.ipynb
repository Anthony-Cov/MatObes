{
  "cells": [
    {
      "cell_type": "code",
      "execution_count": 38,
      "outputs": [],
      "source": [
        "# Импорт необходимых библиотек\n",
        "import numpy as np\n",
        "import matplotlib.pyplot as plt\n",
        "import pandas as pd\n",
        "from keras.models import Sequential\n",
        "from keras.layers import Dense\n",
        "from keras.optimizers import SGD, Adam, RMSprop\n",
        "from keras.losses import MeanSquaredError, MeanAbsoluteError, LogCosh\n",
        "from sklearn.model_selection import train_test_split\n",
        "from sklearn.metrics import mean_squared_error\n",
        "import tensorflow as tf\n",
        "\n",
        "%config InlineBackend.figure_format = 'retina'\n",
        "plt.rcParams['figure.figsize'] = 8, 5\n",
        "plt.rcParams['font.size'] = 12"
      ],
      "metadata": {
        "ExecuteTime": {
          "end_time": "2023-11-13T14:49:04.441164Z",
          "start_time": "2023-11-13T14:49:04.383445Z"
        },
        "id": "dd534c03e979a226"
      },
      "id": "dd534c03e979a226"
    },
    {
      "cell_type": "code",
      "execution_count": 2,
      "outputs": [],
      "source": [
        "df = pd.read_csv('raw.githubusercontent.com_jbrownlee_Datasets_master_daily-min-temperatures.csv')\n",
        "df['Date'] = pd.to_datetime(df['Date'])\n",
        "df = df[:1000]"
      ],
      "metadata": {
        "ExecuteTime": {
          "end_time": "2023-11-13T14:49:05.185745Z",
          "start_time": "2023-11-13T14:49:05.172941Z"
        },
        "id": "110fab6455060155"
      },
      "id": "110fab6455060155"
    },
    {
      "cell_type": "code",
      "execution_count": 3,
      "outputs": [],
      "source": [
        "df2 = pd.read_csv('BBG00B3T3HD3.csv')[:1000]"
      ],
      "metadata": {
        "id": "7b41ed7c142c6554"
      },
      "id": "7b41ed7c142c6554"
    },
    {
      "cell_type": "code",
      "execution_count": 9,
      "outputs": [],
      "source": [
        "# Функция для создания и обучения модели\n",
        "def build_and_train_model(loss_function, optimizer, X_train, X_test, y_train, y_test):\n",
        "    model = Sequential()\n",
        "    model.add(Dense(10, input_dim=1, activation='relu'))\n",
        "    model.add(Dense(1, activation='relu'))\n",
        "    model.compile(loss=loss_function, optimizer=optimizer)\n",
        "\n",
        "    # Обучение модели\n",
        "    model.fit(X_train, y_train, epochs=1, batch_size=2, verbose=0)\n",
        "\n",
        "    # Предсказание на тестовом наборе\n",
        "    y_pred = model.predict(X_test)\n",
        "\n",
        "    # Выводим результаты\n",
        "    mse = mean_squared_error(y_test, y_pred)\n",
        "    print(f\"Loss Function: {loss_function}, Optimizer: {optimizer}\")\n",
        "    print(f\"Mean Squared Error on Test Data: {mse}\")\n",
        "    print(\"\\n\")"
      ],
      "metadata": {
        "id": "initial_id"
      },
      "id": "initial_id"
    },
    {
      "cell_type": "code",
      "execution_count": 43,
      "outputs": [],
      "source": [
        "# Список функций потерь\n",
        "loss_functions = [MeanSquaredError(), MeanAbsoluteError(), LogCosh()]\n",
        "\n",
        "# Список оптимизаторов\n",
        "optimizers = [tf.keras.optimizers.legacy.SGD(), tf.keras.optimizers.legacy.Adam(), tf.keras.optimizers.legacy.RMSprop()]\n",
        "\n",
        "def do_experiment(timeseries):\n",
        "    X = timeseries[:-1]\n",
        "    y = timeseries[1:] # сместить на одно вперед\n",
        "    X_train, X_test, y_train, y_test = train_test_split(X, y, test_size=0.2, shuffle=False)\n",
        "    for loss_function in loss_functions:\n",
        "        for optimizer in optimizers:\n",
        "            build_and_train_model(loss_function, optimizer, X_train, X_test, y_train, y_test)"
      ],
      "metadata": {
        "id": "384a13bcaace9705"
      },
      "id": "384a13bcaace9705"
    },
    {
      "cell_type": "code",
      "execution_count": 44,
      "outputs": [
        {
          "output_type": "stream",
          "name": "stdout",
          "text": [
            "7/7 [==============================] - 0s 2ms/step\n",
            "Loss Function: <keras.src.losses.MeanSquaredError object at 0x7aa5b406b7f0>, Optimizer: <keras.src.optimizers.legacy.gradient_descent.SGD object at 0x7aa5b4068e80>\n",
            "Mean Squared Error on Test Data: 96.3506\n",
            "\n",
            "\n",
            "7/7 [==============================] - 0s 3ms/step\n",
            "Loss Function: <keras.src.losses.MeanSquaredError object at 0x7aa5b406b7f0>, Optimizer: <keras.src.optimizers.legacy.adam.Adam object at 0x7aa5b406b400>\n",
            "Mean Squared Error on Test Data: 7.386684960831746\n",
            "\n",
            "\n",
            "7/7 [==============================] - 0s 2ms/step\n",
            "Loss Function: <keras.src.losses.MeanSquaredError object at 0x7aa5b406b7f0>, Optimizer: <keras.src.optimizers.legacy.rmsprop.RMSprop object at 0x7aa5b4069780>\n",
            "Mean Squared Error on Test Data: 96.3506\n",
            "\n",
            "\n",
            "7/7 [==============================] - 0s 2ms/step\n",
            "Loss Function: <keras.src.losses.MeanAbsoluteError object at 0x7aa5b406ba00>, Optimizer: <keras.src.optimizers.legacy.gradient_descent.SGD object at 0x7aa5b4068e80>\n",
            "Mean Squared Error on Test Data: 96.3506\n",
            "\n",
            "\n",
            "7/7 [==============================] - 0s 2ms/step\n",
            "Loss Function: <keras.src.losses.MeanAbsoluteError object at 0x7aa5b406ba00>, Optimizer: <keras.src.optimizers.legacy.adam.Adam object at 0x7aa5b406b400>\n",
            "Mean Squared Error on Test Data: 7.447963517556806\n",
            "\n",
            "\n",
            "7/7 [==============================] - 0s 2ms/step\n",
            "Loss Function: <keras.src.losses.MeanAbsoluteError object at 0x7aa5b406ba00>, Optimizer: <keras.src.optimizers.legacy.rmsprop.RMSprop object at 0x7aa5b4069780>\n",
            "Mean Squared Error on Test Data: 7.860809859803905\n",
            "\n",
            "\n",
            "7/7 [==============================] - 0s 2ms/step\n",
            "Loss Function: <keras.src.losses.LogCosh object at 0x7aa5b4069bd0>, Optimizer: <keras.src.optimizers.legacy.gradient_descent.SGD object at 0x7aa5b4068e80>\n",
            "Mean Squared Error on Test Data: 7.1515446212303\n",
            "\n",
            "\n",
            "7/7 [==============================] - 0s 2ms/step\n",
            "Loss Function: <keras.src.losses.LogCosh object at 0x7aa5b4069bd0>, Optimizer: <keras.src.optimizers.legacy.adam.Adam object at 0x7aa5b406b400>\n",
            "Mean Squared Error on Test Data: 96.3506\n",
            "\n",
            "\n",
            "7/7 [==============================] - 0s 2ms/step\n",
            "Loss Function: <keras.src.losses.LogCosh object at 0x7aa5b4069bd0>, Optimizer: <keras.src.optimizers.legacy.rmsprop.RMSprop object at 0x7aa5b4069780>\n",
            "Mean Squared Error on Test Data: 7.2185268495833235\n",
            "\n",
            "\n",
            "7/7 [==============================] - 0s 2ms/step\n",
            "Loss Function: <keras.src.losses.MeanSquaredError object at 0x7aa5b406b7f0>, Optimizer: <keras.src.optimizers.legacy.gradient_descent.SGD object at 0x7aa5b4068e80>\n",
            "Mean Squared Error on Test Data: 168.31873\n",
            "\n",
            "\n",
            "7/7 [==============================] - 0s 2ms/step\n",
            "Loss Function: <keras.src.losses.MeanSquaredError object at 0x7aa5b406b7f0>, Optimizer: <keras.src.optimizers.legacy.adam.Adam object at 0x7aa5b406b400>\n",
            "Mean Squared Error on Test Data: 168.31873\n",
            "\n",
            "\n",
            "7/7 [==============================] - 0s 2ms/step\n",
            "Loss Function: <keras.src.losses.MeanSquaredError object at 0x7aa5b406b7f0>, Optimizer: <keras.src.optimizers.legacy.rmsprop.RMSprop object at 0x7aa5b4069780>\n",
            "Mean Squared Error on Test Data: 168.31873\n",
            "\n",
            "\n",
            "7/7 [==============================] - 0s 2ms/step\n",
            "Loss Function: <keras.src.losses.MeanAbsoluteError object at 0x7aa5b406ba00>, Optimizer: <keras.src.optimizers.legacy.gradient_descent.SGD object at 0x7aa5b4068e80>\n",
            "Mean Squared Error on Test Data: 168.31873\n",
            "\n",
            "\n",
            "7/7 [==============================] - 0s 2ms/step\n",
            "Loss Function: <keras.src.losses.MeanAbsoluteError object at 0x7aa5b406ba00>, Optimizer: <keras.src.optimizers.legacy.adam.Adam object at 0x7aa5b406b400>\n",
            "Mean Squared Error on Test Data: 0.3916673331548776\n",
            "\n",
            "\n",
            "7/7 [==============================] - 0s 2ms/step\n",
            "Loss Function: <keras.src.losses.MeanAbsoluteError object at 0x7aa5b406ba00>, Optimizer: <keras.src.optimizers.legacy.rmsprop.RMSprop object at 0x7aa5b4069780>\n",
            "Mean Squared Error on Test Data: 168.31873\n",
            "\n",
            "\n",
            "7/7 [==============================] - 0s 2ms/step\n",
            "Loss Function: <keras.src.losses.LogCosh object at 0x7aa5b4069bd0>, Optimizer: <keras.src.optimizers.legacy.gradient_descent.SGD object at 0x7aa5b4068e80>\n",
            "Mean Squared Error on Test Data: 168.31873\n",
            "\n",
            "\n",
            "7/7 [==============================] - 0s 2ms/step\n",
            "Loss Function: <keras.src.losses.LogCosh object at 0x7aa5b4069bd0>, Optimizer: <keras.src.optimizers.legacy.adam.Adam object at 0x7aa5b406b400>\n",
            "Mean Squared Error on Test Data: 168.31873\n",
            "\n",
            "\n",
            "7/7 [==============================] - 0s 2ms/step\n",
            "Loss Function: <keras.src.losses.LogCosh object at 0x7aa5b4069bd0>, Optimizer: <keras.src.optimizers.legacy.rmsprop.RMSprop object at 0x7aa5b4069780>\n",
            "Mean Squared Error on Test Data: 168.31873\n",
            "\n",
            "\n"
          ]
        }
      ],
      "source": [
        "# Испытание модели с разными функциями потерь и оптимизаторами\n",
        "do_experiment(df['Temp'])"
      ],
      "metadata": {
        "colab": {
          "base_uri": "https://localhost:8080/"
        },
        "id": "78cba0d4889b4f42",
        "outputId": "05afb469-ce2f-4930-eef2-453aca83ab09"
      },
      "id": "78cba0d4889b4f42"
    },
    {
      "cell_type": "markdown",
      "source": [
        "Лучший результат показал LogCosh и SGD"
      ],
      "metadata": {
        "id": "jS1VKLRWQZdW"
      },
      "id": "jS1VKLRWQZdW"
    },
    {
      "cell_type": "code",
      "source": [
        "do_experiment(df2['close'])"
      ],
      "metadata": {
        "colab": {
          "base_uri": "https://localhost:8080/"
        },
        "id": "daHrYNq5QMTL",
        "outputId": "3dba7c67-ac86-405f-c069-b476c748c2d7"
      },
      "id": "daHrYNq5QMTL",
      "execution_count": 45,
      "outputs": [
        {
          "output_type": "stream",
          "name": "stdout",
          "text": [
            "7/7 [==============================] - 0s 2ms/step\n",
            "Loss Function: <keras.src.losses.MeanSquaredError object at 0x7aa5b406b7f0>, Optimizer: <keras.src.optimizers.legacy.gradient_descent.SGD object at 0x7aa5b4068e80>\n",
            "Mean Squared Error on Test Data: 168.31873\n",
            "\n",
            "\n",
            "7/7 [==============================] - 0s 2ms/step\n",
            "Loss Function: <keras.src.losses.MeanSquaredError object at 0x7aa5b406b7f0>, Optimizer: <keras.src.optimizers.legacy.adam.Adam object at 0x7aa5b406b400>\n",
            "Mean Squared Error on Test Data: 0.45345253872055663\n",
            "\n",
            "\n",
            "7/7 [==============================] - 0s 3ms/step\n",
            "Loss Function: <keras.src.losses.MeanSquaredError object at 0x7aa5b406b7f0>, Optimizer: <keras.src.optimizers.legacy.rmsprop.RMSprop object at 0x7aa5b4069780>\n",
            "Mean Squared Error on Test Data: 168.31873\n",
            "\n",
            "\n",
            "7/7 [==============================] - 0s 2ms/step\n",
            "Loss Function: <keras.src.losses.MeanAbsoluteError object at 0x7aa5b406ba00>, Optimizer: <keras.src.optimizers.legacy.gradient_descent.SGD object at 0x7aa5b4068e80>\n",
            "Mean Squared Error on Test Data: 93.45708487335696\n",
            "\n",
            "\n",
            "7/7 [==============================] - 0s 2ms/step\n",
            "Loss Function: <keras.src.losses.MeanAbsoluteError object at 0x7aa5b406ba00>, Optimizer: <keras.src.optimizers.legacy.adam.Adam object at 0x7aa5b406b400>\n",
            "Mean Squared Error on Test Data: 168.31873\n",
            "\n",
            "\n",
            "7/7 [==============================] - 0s 2ms/step\n",
            "Loss Function: <keras.src.losses.MeanAbsoluteError object at 0x7aa5b406ba00>, Optimizer: <keras.src.optimizers.legacy.rmsprop.RMSprop object at 0x7aa5b4069780>\n",
            "Mean Squared Error on Test Data: 0.5074394646922048\n",
            "\n",
            "\n",
            "7/7 [==============================] - 0s 2ms/step\n",
            "Loss Function: <keras.src.losses.LogCosh object at 0x7aa5b4069bd0>, Optimizer: <keras.src.optimizers.legacy.gradient_descent.SGD object at 0x7aa5b4068e80>\n",
            "Mean Squared Error on Test Data: 14.913449776616687\n",
            "\n",
            "\n",
            "7/7 [==============================] - 0s 2ms/step\n",
            "Loss Function: <keras.src.losses.LogCosh object at 0x7aa5b4069bd0>, Optimizer: <keras.src.optimizers.legacy.adam.Adam object at 0x7aa5b406b400>\n",
            "Mean Squared Error on Test Data: 0.4099960513418195\n",
            "\n",
            "\n",
            "7/7 [==============================] - 0s 3ms/step\n",
            "Loss Function: <keras.src.losses.LogCosh object at 0x7aa5b4069bd0>, Optimizer: <keras.src.optimizers.legacy.rmsprop.RMSprop object at 0x7aa5b4069780>\n",
            "Mean Squared Error on Test Data: 168.31873\n",
            "\n",
            "\n"
          ]
        }
      ]
    },
    {
      "cell_type": "markdown",
      "source": [
        "Лучший результат показал LogCosh и Adam"
      ],
      "metadata": {
        "id": "nEQsY5JJQfC_"
      },
      "id": "nEQsY5JJQfC_"
    }
  ],
  "metadata": {
    "kernelspec": {
      "display_name": "Python 3",
      "language": "python",
      "name": "python3"
    },
    "language_info": {
      "codemirror_mode": {
        "name": "ipython",
        "version": 2
      },
      "file_extension": ".py",
      "mimetype": "text/x-python",
      "name": "python",
      "nbconvert_exporter": "python",
      "pygments_lexer": "ipython2",
      "version": "2.7.6"
    },
    "colab": {
      "provenance": []
    }
  },
  "nbformat": 4,
  "nbformat_minor": 5
}